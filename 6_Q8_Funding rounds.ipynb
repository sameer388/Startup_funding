{
 "cells": [
  {
   "cell_type": "markdown",
   "id": "e1e3c993",
   "metadata": {},
   "source": [
    "Ques_Find the top 5 startups which get the funding more no of times?"
   ]
  },
  {
   "cell_type": "code",
   "execution_count": 1,
   "id": "c2f3dae8",
   "metadata": {},
   "outputs": [],
   "source": [
    "import csv\n",
    "import numpy as np\n",
    "import matplotlib.pyplot as plt\n",
    "file_obj = open(\"D:/Data Science/14. Project-Case Study(Part-1)/startup_funding.csv\",encoding = 'utf8')\n",
    "file_data = csv.DictReader(file_obj,skipinitialspace = True)\n",
    "file_list = list(file_data)"
   ]
  },
  {
   "cell_type": "code",
   "execution_count": 5,
   "id": "8f9a48df",
   "metadata": {},
   "outputs": [
    {
     "name": "stdout",
     "output_type": "stream",
     "text": [
      "Ola 9\n",
      "Swiggy 7\n",
      "Paytm 6\n",
      "UrbanClap 6\n",
      "Oyo 6\n"
     ]
    }
   ],
   "source": [
    "dic = {}\n",
    "for row in file_list:\n",
    "    if row['StartupName'] == 'Ola Cabs':\n",
    "        row['StartupName'] = 'Ola'\n",
    "    if row['StartupName'] == 'Olacabs':\n",
    "        row['StartupName'] = 'Ola'\n",
    "    if row['StartupName'] == 'Flipkart.com':\n",
    "        row['StartupName'] = 'Flipkart'\n",
    "    if row['StartupName'] == 'Paytm Marketplace':\n",
    "        row['StartupName'] = 'Paytm'\n",
    "    if row['StartupName'] == 'Oyo Rooms':\n",
    "        row['StartupName'] = 'Oyo'\n",
    "    if row['StartupName'] == 'OyoRooms':\n",
    "        row['StartupName'] = 'Oyo'\n",
    "    if row['StartupName'] == 'Oyorooms':\n",
    "        row['StartupName'] = 'Oyo'\n",
    "    if row['StartupName'] == 'OYO Rooms':\n",
    "        row['StartupName'] = 'Oyo'\n",
    "    if row['StartupName'] != '':\n",
    "        if row['StartupName'] in dic:\n",
    "            dic[row['StartupName']] += 1\n",
    "        else:\n",
    "            dic[row['StartupName']] = 1\n",
    "number = []\n",
    "startups = []\n",
    "for i in dic:\n",
    "    number.append(dic[i])\n",
    "    startups.append(i)\n",
    "np_number = np.array(number)\n",
    "np_startups = np.array(startups)\n",
    "np_startups = np_startups[np.argsort(np_number)]\n",
    "np_number = np.sort(np_number)\n",
    "l = len(np_startups)\n",
    "np_startups = np_startups[l-1:l-6:-1]\n",
    "np_number =  np_number[l-1:l-6:-1]\n",
    "for i in range(5):\n",
    "    print(np_startups[i],np_number[i])"
   ]
  }
 ],
 "metadata": {
  "kernelspec": {
   "display_name": "Python 3",
   "language": "python",
   "name": "python3"
  },
  "language_info": {
   "codemirror_mode": {
    "name": "ipython",
    "version": 3
   },
   "file_extension": ".py",
   "mimetype": "text/x-python",
   "name": "python",
   "nbconvert_exporter": "python",
   "pygments_lexer": "ipython3",
   "version": "3.8.8"
  }
 },
 "nbformat": 4,
 "nbformat_minor": 5
}
