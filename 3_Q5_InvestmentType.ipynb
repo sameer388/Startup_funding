{
 "cells": [
  {
   "cell_type": "markdown",
   "id": "7a374072",
   "metadata": {},
   "source": [
    "Ques- Find the  percentage of each type of investment.There may be some spelling error so make them also correct."
   ]
  },
  {
   "cell_type": "code",
   "execution_count": 8,
   "id": "71f5f749",
   "metadata": {},
   "outputs": [
    {
     "name": "stdout",
     "output_type": "stream",
     "text": [
      "2372\n"
     ]
    }
   ],
   "source": [
    "import csv\n",
    "import numpy as np\n",
    "import matplotlib.pyplot as plt\n",
    "file_obj = open(\"D:/Data Science/14. Project-Case Study(Part-1)/startup_funding.csv\",encoding = 'utf8')\n",
    "file_data = csv.DictReader(file_obj,skipinitialspace = True)\n",
    "file_list = list(file_data)\n",
    "print(len(file_list))"
   ]
  },
  {
   "cell_type": "code",
   "execution_count": 18,
   "id": "17d2ec86",
   "metadata": {},
   "outputs": [
    {
     "name": "stdout",
     "output_type": "stream",
     "text": [
      "Private Equity 98.14523\n",
      "Seed Funding 1.81141\n",
      "Debt Funding 0.04251\n",
      "Crowd Funding 0.00085\n"
     ]
    },
    {
     "data": {
      "image/png": "[encoded data removed]",
      "text/plain": [
       "<Figure size 432x288 with 1 Axes>"
      ]
     },
     "metadata": {},
     "output_type": "display_data"
    }
   ],
   "source": [
    "dic = {}\n",
    "for row in file_list:\n",
    "    if row['InvestmentType'] == 'SeedFunding':\n",
    "        row['InvestmentType'] = 'Seed Funding'\n",
    "    if row['InvestmentType'] == 'PrivateEquity':\n",
    "        row['InvestmentType'] = 'Private Equity'\n",
    "    if row['InvestmentType'] == 'Crowd funding':\n",
    "        row['InvestmentType'] = 'Crowd Funding'\n",
    "    if row['AmountInUSD'] != '':\n",
    "        x = row['AmountInUSD'].replace(',','')\n",
    "        if row['InvestmentType'] in dic:\n",
    "            dic[row['InvestmentType']] += int(float(x))\n",
    "        else:\n",
    "            dic[row['InvestmentType']] = int(float(x))\n",
    "Investment = []\n",
    "amount = []\n",
    "for i in dic:\n",
    "    amount.append(dic[i])\n",
    "    Investment.append(i)\n",
    "np_amount = np.array(amount)\n",
    "np_investment = np.array(Investment)\n",
    "np_investment = np_investment[np.argsort(np_amount)]\n",
    "np_amount = np.sort(np_amount)\n",
    "percentage = []\n",
    "l = len(np_amount)\n",
    "total = sum(np_amount)\n",
    "for i in np_amount:\n",
    "    y = (i/total)*100\n",
    "    percentage.append(round(y,5))\n",
    "np_investment = np_investment[::-1]\n",
    "percentage = percentage[::-1]\n",
    "plt.pie(percentage, labels = np_investment ,radius = 2,explode = np.full(4,0.8))\n",
    "for i in range(l):\n",
    "    print(np_investment[i],percentage[i])"
   ]
  }
 ],
 "metadata": {
  "kernelspec": {
   "display_name": "Python 3",
   "language": "python",
   "name": "python3"
  },
  "language_info": {
   "codemirror_mode": {
    "name": "ipython",
    "version": 3
   },
   "file_extension": ".py",
   "mimetype": "text/x-python",
   "name": "python",
   "nbconvert_exporter": "python",
   "pygments_lexer": "ipython3",
   "version": "3.8.8"
  }
 },
 "nbformat": 4,
 "nbformat_minor": 5
}
