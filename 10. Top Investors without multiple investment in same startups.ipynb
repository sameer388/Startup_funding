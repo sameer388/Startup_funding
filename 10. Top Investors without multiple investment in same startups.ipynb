{
 "cells": [
  {
   "cell_type": "markdown",
   "id": "8da6b990",
   "metadata": {},
   "source": [
    "3.\tAfter re-analysing the dataset you found out that some investors have invested in the same startup at different number of funding rounds. So before finalising the previous list, you want to improvise it by finding the top 5 investors who have invested in different number of startups. This list will be more helpful than your previous list in finding the investment for your friend startup. Find the top 5 investors who have invested maximum number of times in different companies. That means, if one investor has invested multiple times in one startup, count one for that company. There are many errors in startup names. Ignore correcting all, just handle the important ones - Ola, Flipkart, Oyo and Paytm."
   ]
  },
  {
   "cell_type": "code",
   "execution_count": 1,
   "id": "8a0d84e0",
   "metadata": {},
   "outputs": [],
   "source": [
    "import csv\n",
    "import numpy as np\n",
    "import matplotlib.pyplot as plt\n",
    "file_obj = open(\"D:/Data Science/14. Project-Case Study(Part-1)/startup_funding.csv\",encoding = 'utf8')\n",
    "file_data = csv.DictReader(file_obj,skipinitialspace = True)\n",
    "file_list = list(file_data)"
   ]
  },
  {
   "cell_type": "code",
   "execution_count": 2,
   "id": "b99e83ac",
   "metadata": {},
   "outputs": [
    {
     "name": "stdout",
     "output_type": "stream",
     "text": [
      "Sequoia Capital 64\n",
      "Accel Partners 52\n",
      "Kalaari Capital 44\n",
      "SAIF Partners 41\n",
      "Indian Angel Network 40\n"
     ]
    }
   ],
   "source": [
    "check = {}\n",
    "dic = {}\n",
    "investors = []\n",
    "for row in file_list:\n",
    "    if row['StartupName'] == 'Ola Cabs':\n",
    "        row['StartupName'] = 'Ola'\n",
    "    if row['StartupName'] == 'Olacabs':\n",
    "        row['StartupName'] = 'Ola'\n",
    "    if row['StartupName'] == 'Flipkart.com':\n",
    "        row['StartupName'] = 'Flipkart'\n",
    "    if row['StartupName'] == 'Paytm Marketplace':\n",
    "        row['StartupName'] = 'Paytm'\n",
    "    if row['StartupName'] == 'Oyo Rooms':\n",
    "        row['StartupName'] = 'Oyo'\n",
    "    if row['StartupName'] == 'OyoRooms':\n",
    "        row['StartupName'] = 'Oyo'\n",
    "    if row['StartupName'] == 'Oyorooms':\n",
    "        row['StartupName'] = 'Oyo'\n",
    "    if row['StartupName'] == 'OYO Rooms':\n",
    "        row['StartupName'] = 'Oyo'\n",
    "for row in file_list:\n",
    "    if not('Undisclosed' in row['InvestorsName'] or 'undisclosed' in row['InvestorsName'] or row['InvestorsName'] == ''):\n",
    "        for i in row['InvestorsName'].split(','):\n",
    "            check[i.strip()] = row['StartupName']\n",
    "            investors.append(i.strip())\n",
    "for i in investors:\n",
    "    if i in dic:\n",
    "        dic[i] += 1\n",
    "    else:\n",
    "        dic[i] = 1\n",
    "Investor = []\n",
    "Number = []\n",
    "for i in dic:\n",
    "    Investor.append(i)\n",
    "    Number.append(dic[i])\n",
    "np_investor = np.array(Investor)\n",
    "np_number = np.array(Number)\n",
    "np_investor = np_investor[np.argsort(np_number)]\n",
    "np_number = np.sort(np_number)\n",
    "np_investor = np_investor[::-1]\n",
    "np_number = np_number[::-1]\n",
    "for i in range(5):\n",
    "    print(np_investor[i],np_number[i])"
   ]
  }
 ],
 "metadata": {
  "kernelspec": {
   "display_name": "Python 3",
   "language": "python",
   "name": "python3"
  },
  "language_info": {
   "codemirror_mode": {
    "name": "ipython",
    "version": 3
   },
   "file_extension": ".py",
   "mimetype": "text/x-python",
   "name": "python",
   "nbconvert_exporter": "python",
   "pygments_lexer": "ipython3",
   "version": "3.8.8"
  }
 },
 "nbformat": 4,
 "nbformat_minor": 5
}
