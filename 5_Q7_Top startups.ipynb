{
 "cells": [
  {
   "cell_type": "markdown",
   "id": "7d0e1ae5",
   "metadata": {},
   "source": [
    "Ques_Find the top 5 startups which gets more amount of fund."
   ]
  },
  {
   "cell_type": "code",
   "execution_count": 1,
   "id": "466906cc",
   "metadata": {},
   "outputs": [],
   "source": [
    "import csv\n",
    "import numpy as np\n",
    "import matplotlib.pyplot as plt\n",
    "file_obj = open(\"D:/Data Science/14. Project-Case Study(Part-1)/startup_funding.csv\",encoding = 'utf8')\n",
    "file_data = csv.DictReader(file_obj,skipinitialspace = True)\n",
    "file_list = list(file_data)"
   ]
  },
  {
   "cell_type": "code",
   "execution_count": 2,
   "id": "f1eec97a",
   "metadata": {},
   "outputs": [
    {
     "name": "stdout",
     "output_type": "stream",
     "text": [
      "Paytm\n",
      "Flipkart\n",
      "Ola\n",
      "Snapdeal\n",
      "Oyo\n"
     ]
    }
   ],
   "source": [
    "dic = {}\n",
    "for row in file_list:\n",
    "    if row['StartupName'] == 'Ola Cabs':\n",
    "        row['StartupName'] = 'Ola'\n",
    "    if row['StartupName'] == 'Olacabs':\n",
    "        row['StartupName'] = 'Ola'\n",
    "    if row['StartupName'] == 'Flipkart.com':\n",
    "        row['StartupName'] = 'Flipkart'\n",
    "    if row['StartupName'] == 'Paytm Marketplace':\n",
    "        row['StartupName'] = 'Paytm'\n",
    "    if row['StartupName'] == 'Oyo Rooms':\n",
    "        row['StartupName'] = 'Oyo'\n",
    "    if row['StartupName'] == 'OyoRooms':\n",
    "        row['StartupName'] = 'Oyo'\n",
    "    if row['StartupName'] == 'Oyorooms':\n",
    "        row['StartupName'] = 'Oyo'\n",
    "    if row['StartupName'] == 'OYO Rooms':\n",
    "        row['StartupName'] = 'Oyo'\n",
    "    if row['AmountInUSD'] != '' and row['StartupName'] != '':\n",
    "        x = row['AmountInUSD'].replace(',','')\n",
    "        if row['StartupName'] in dic:\n",
    "            dic[row['StartupName']] += int(float(x))\n",
    "        else:\n",
    "            dic[row['StartupName']] = int(float(x))\n",
    "amount = []\n",
    "startups = []\n",
    "for i in dic:\n",
    "    amount.append(dic[i])\n",
    "    startups.append(i)\n",
    "np_amount = np.array(amount)\n",
    "np_startups = np.array(startups)\n",
    "np_startups = np_startups[np.argsort(np_amount)]\n",
    "np_amount = np.sort(np_amount)\n",
    "l = len(np_startups)\n",
    "np_startups = np_startups[l-1:l-6:-1]\n",
    "np_amount =  np_amount[l-1:l-6:-1]\n",
    "for i in range(5):\n",
    "    print(np_startups[i])"
   ]
  }
 ],
 "metadata": {
  "kernelspec": {
   "display_name": "Python 3",
   "language": "python",
   "name": "python3"
  },
  "language_info": {
   "codemirror_mode": {
    "name": "ipython",
    "version": 3
   },
   "file_extension": ".py",
   "mimetype": "text/x-python",
   "name": "python",
   "nbconvert_exporter": "python",
   "pygments_lexer": "ipython3",
   "version": "3.8.8"
  }
 },
 "nbformat": 4,
 "nbformat_minor": 5
}
