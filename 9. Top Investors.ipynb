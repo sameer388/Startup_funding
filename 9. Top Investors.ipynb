{
 "cells": [
  {
   "cell_type": "markdown",
   "id": "592594bb",
   "metadata": {},
   "source": [
    "2.\tEven after trying for so many times, your friend’s startup could not find the investment. So you decided to take this matter in your hand and try to find the list of investors who probably can invest in your friend’s startup. Your list will increase the chance of your friend startup getting some initial investment by contacting these investors. Find the top 5 investors who have invested maximum number of times (consider repeat investments in one company also). In a startup, multiple investors might have invested. So consider each investor for that startup. Ignore undisclosed investors."
   ]
  },
  {
   "cell_type": "code",
   "execution_count": 1,
   "id": "c269abe9",
   "metadata": {},
   "outputs": [],
   "source": [
    "import csv\n",
    "import numpy as np\n",
    "import matplotlib.pyplot as plt\n",
    "file_obj = open(\"D:/Data Science/14. Project-Case Study(Part-1)/startup_funding.csv\",encoding = 'utf8')\n",
    "file_data = csv.DictReader(file_obj,skipinitialspace = True)\n",
    "file_list = list(file_data)"
   ]
  },
  {
   "cell_type": "code",
   "execution_count": 3,
   "id": "6085cfd7",
   "metadata": {},
   "outputs": [
    {
     "name": "stdout",
     "output_type": "stream",
     "text": [
      "Sequoia Capital 64\n",
      "Accel Partners 52\n",
      "Kalaari Capital 44\n",
      "SAIF Partners 41\n",
      "Indian Angel Network 40\n"
     ]
    }
   ],
   "source": [
    "dic = {}\n",
    "investors = []\n",
    "for row in file_list:\n",
    "    if not('Undisclosed' in row['InvestorsName'] or 'undisclosed' in row['InvestorsName'] or row['InvestorsName'] == ''):\n",
    "        for i in row['InvestorsName'].split(','):\n",
    "            investors.append(i.strip())\n",
    "for i in investors:\n",
    "    if i in dic:\n",
    "        dic[i] += 1\n",
    "    else:\n",
    "        dic[i] = 1\n",
    "Investor = []\n",
    "Number = []\n",
    "for i in dic:\n",
    "    Investor.append(i)\n",
    "    Number.append(dic[i])\n",
    "np_investor = np.array(Investor)\n",
    "np_number = np.array(Number)\n",
    "np_investor = np_investor[np.argsort(np_number)]\n",
    "np_number = np.sort(np_number)\n",
    "np_investor = np_investor[::-1]\n",
    "np_number = np_number[::-1]\n",
    "for i in range(5):\n",
    "    print(np_investor[i],np_number[i])"
   ]
  },
  {
   "cell_type": "markdown",
   "id": "2f072dbc",
   "metadata": {},
   "source": [
    "###  According to the above data we can see that Sequoia Capital is the company which invested more no of times  So I suggest my friend to focus of this investors."
   ]
  }
 ],
 "metadata": {
  "kernelspec": {
   "display_name": "Python 3",
   "language": "python",
   "name": "python3"
  },
  "language_info": {
   "codemirror_mode": {
    "name": "ipython",
    "version": 3
   },
   "file_extension": ".py",
   "mimetype": "text/x-python",
   "name": "python",
   "nbconvert_exporter": "python",
   "pygments_lexer": "ipython3",
   "version": "3.8.8"
  }
 },
 "nbformat": 4,
 "nbformat_minor": 5
}
