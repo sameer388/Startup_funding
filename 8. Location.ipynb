{
 "cells": [
  {
   "cell_type": "markdown",
   "id": "a8cf9ef5",
   "metadata": {},
   "source": [
    "1.\tYour Friend has developed the Product and he wants to establish the product startup and he is searching for a perfect location where getting the investment has a high chance. But due to its financial restriction, he can choose only between three locations -  Bangalore, Mumbai, and NCR. As a friend, you want to help your friend deciding the location. NCR include Gurgaon, Noida and New Delhi. Find the location where the most number of funding is done. That means, find the location where startups has received funding maximum number of times. Plot the bar graph between location and number of funding. Take city name \"Delhi\" as \"New Delhi\". Check the case-sensitiveness of cities also. That means, at some place instead of \"Bangalore\", \"bangalore\" is given. Take city name as \"Bangalore\". For few startups multiple locations are given, one Indian and one Foreign. Consider the startup if any one of the city lies in given locations."
   ]
  },
  {
   "cell_type": "code",
   "execution_count": 34,
   "id": "d171d7e3",
   "metadata": {},
   "outputs": [],
   "source": [
    "import csv\n",
    "import matplotlib.pyplot as plt\n",
    "file_obj = open(\"D:/Data Science/14. Project-Case Study(Part-1)/startup_funding.csv\",encoding = 'utf8')\n",
    "file_data = csv.DictReader(file_obj,skipinitialspace = True)\n",
    "file_list = list(file_data)"
   ]
  },
  {
   "cell_type": "code",
   "execution_count": 41,
   "id": "9e735c39",
   "metadata": {},
   "outputs": [
    {
     "name": "stdout",
     "output_type": "stream",
     "text": [
      "Bangalore 635\n",
      "Mumbai 449\n",
      "New Delhi 389\n",
      "Gurgaon 241\n",
      "Noida 79\n"
     ]
    },
    {
     "data": {
      "image/png": "[encoded data removed]",
      "text/plain": [
       "<Figure size 432x288 with 1 Axes>"
      ]
     },
     "metadata": {
      "needs_background": "light"
     },
     "output_type": "display_data"
    }
   ],
   "source": [
    "location = []\n",
    "for row in file_list:\n",
    "    location.append(row['CityLocation'])\n",
    "import numpy as np\n",
    "np_location = np.array(location)\n",
    "np_location = np_location[np_location != '']\n",
    "for i in range(len(np_location)): ## for changing the value at delhi and bangalore\n",
    "    if np_location[i] == 'bangalore':\n",
    "        np_location[i] = 'Bangalore'\n",
    "    if np_location[i] == 'Delhi':\n",
    "        np_location[i] = 'New Delhi'\n",
    "for i in range(len(np_location)):\n",
    "    np_location[i] = np_location[i].split('/')[0].strip() ## for knowing the things other than india\n",
    "dic = {}\n",
    "for i in np_location:\n",
    "    if i in dic:\n",
    "        dic[i] += 1\n",
    "    else:\n",
    "        dic[i] = 1\n",
    "Bangalore = dic['Bangalore']\n",
    "Mumbai = dic['Mumbai']\n",
    "New_Delhi = dic['New Delhi']\n",
    "Gurgaon = dic['Gurgaon']\n",
    "Noida = dic['Noida']\n",
    "Loc = ['Bangalore','Mumbai','New Delhi','Gurgaon','Noida']\n",
    "Number = [Bangalore,Mumbai,New_Delhi,Gurgaon,Noida]\n",
    "np_loc = np.array(Loc)\n",
    "np_number = np.array(Number)\n",
    "np_loc = np_loc[np.argsort(np_number)]\n",
    "np_number  = np.sort(np_number)\n",
    "for i in range(5):\n",
    "    print(np_loc[4-i],np_number[4-i])\n",
    "plt.bar(np_loc,np_number,color = 'red',width=0.5)\n",
    "plt.xlabel('Location',size = 20)\n",
    "plt.ylabel('Number',size = 20)\n",
    "plt.xticks(size = 15,rotation = 40)\n",
    "plt.show()"
   ]
  },
  {
   "cell_type": "markdown",
   "id": "2f4fd0a3",
   "metadata": {},
   "source": [
    "### From all this location we can see that bangalore recieved maximum no of funding So I suggest my friend to open his business in bangalore."
   ]
  }
 ],
 "metadata": {
  "kernelspec": {
   "display_name": "Python 3",
   "language": "python",
   "name": "python3"
  },
  "language_info": {
   "codemirror_mode": {
    "name": "ipython",
    "version": 3
   },
   "file_extension": ".py",
   "mimetype": "text/x-python",
   "name": "python",
   "nbconvert_exporter": "python",
   "pygments_lexer": "ipython3",
   "version": "3.8.8"
  }
 },
 "nbformat": 4,
 "nbformat_minor": 5
}
