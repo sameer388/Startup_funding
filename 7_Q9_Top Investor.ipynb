{
 "cells": [
  {
   "cell_type": "markdown",
   "id": "765bcb7a",
   "metadata": {},
   "source": [
    "Ques_Find which investor invested maximum no of times."
   ]
  },
  {
   "cell_type": "code",
   "execution_count": 1,
   "id": "1a6773e2",
   "metadata": {},
   "outputs": [],
   "source": [
    "import csv\n",
    "import numpy as np\n",
    "import matplotlib.pyplot as plt\n",
    "file_obj = open(\"D:/Data Science/14. Project-Case Study(Part-1)/startup_funding.csv\",encoding = 'utf8')\n",
    "file_data = csv.DictReader(file_obj,skipinitialspace = True)\n",
    "file_list = list(file_data)"
   ]
  },
  {
   "cell_type": "code",
   "execution_count": 4,
   "id": "aefc73c9",
   "metadata": {},
   "outputs": [
    {
     "name": "stdout",
     "output_type": "stream",
     "text": [
      "Sequoia Capital 64\n"
     ]
    }
   ],
   "source": [
    "dic = {}\n",
    "investors = []\n",
    "for row in file_list:\n",
    "    if not('Undisclosed' in row['InvestorsName'] or 'undisclosed' in row['InvestorsName']):\n",
    "        for i in row['InvestorsName'].split(','):\n",
    "            investors.append(i.strip())\n",
    "for i in investors:\n",
    "    if i in dic:\n",
    "        dic[i] += 1\n",
    "    else:\n",
    "        dic[i] = 1\n",
    "Investor = []\n",
    "Number = []\n",
    "for i in dic:\n",
    "    Investor.append(i)\n",
    "    Number.append(dic[i])\n",
    "np_investor = np.array(Investor)\n",
    "np_number = np.array(Number)\n",
    "np_investor = np_investor[np.argsort(np_number)]\n",
    "np_number = np.sort(np_number)\n",
    "np_investor = np_investor[::-1]\n",
    "np_number = np_number[::-1]\n",
    "print(np_investor[0],np_number[0])"
   ]
  }
 ],
 "metadata": {
  "kernelspec": {
   "display_name": "Python 3",
   "language": "python",
   "name": "python3"
  },
  "language_info": {
   "codemirror_mode": {
    "name": "ipython",
    "version": 3
   },
   "file_extension": ".py",
   "mimetype": "text/x-python",
   "name": "python",
   "nbconvert_exporter": "python",
   "pygments_lexer": "ipython3",
   "version": "3.8.8"
  }
 },
 "nbformat": 4,
 "nbformat_minor": 5
}
